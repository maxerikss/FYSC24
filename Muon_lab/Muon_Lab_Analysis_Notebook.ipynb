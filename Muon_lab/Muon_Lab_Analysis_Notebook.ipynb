{
  "cells": [
    {
      "cell_type": "markdown",
      "metadata": {
        "id": "EmsYzGVqe-Eh"
      },
      "source": [
        "# **Muon lab -- DATA ANALYSIS**\n",
        "joey.staa@fysik.lu.se\n",
        "roman.nepeivoda@fysik.lu.se\n",
        "\n",
        "---\n",
        "\n",
        "\n",
        "During the labs, you constructed an experimental setup which measured the decay times of cosmic muons and stored them in a [histogram](https://en.wikipedia.org/wiki/Histogram).\n",
        "Since the decay has a probabilistic nature, the measured lifetimes will vary. However, the histogram will follow an exponential distribution $\\exp(-t / \\tau)$.\n",
        "\n",
        "In this data analysis, you now need to extract the $\\tau$ parameter from the data by \"fitting\" the histogram.\n",
        "\n",
        "To navigate through this notebook, click on a cell and press Shift+Enter to execute it and move to the next one. Double-click a cell to modify the code in a cell.\n",
        "\n",
        "Once you have worked your way through this notebook and you have obtained your estimate of the muon lifetime, you need to compare it to the currently established experimental value, which can be found somewhere at http://pdg.lbl.gov/\n",
        "\n",
        "Good luck!\n"
      ]
    },
    {
      "cell_type": "markdown",
      "metadata": {
        "id": "aDuF214svIWt"
      },
      "source": [
        "#1. Upload the file\n",
        "Let's start with uploading the data file. Execute the following cell and upload the text file from your lab session containing the measured data."
      ]
    },
    {
      "cell_type": "code",
      "execution_count": null,
      "metadata": {
        "id": "xx56iN8EvisN"
      },
      "outputs": [],
      "source": [
        "from google.colab import files\n",
        "\n",
        "uploaded = files.upload()\n",
        "filenames = uploaded.keys()\n",
        "\n",
        "for filename in uploaded.keys():\n",
        "  print('User uploaded file \"{name}\" with length {length} bytes'.format(name=filename, length=len(uploaded[filename])))"
      ]
    },
    {
      "cell_type": "markdown",
      "metadata": {
        "id": "CrG3sXEUwsK1"
      },
      "source": [
        "#2. Getting the bins and bin contents of the histogram\n",
        "\n",
        "**To do:**\n",
        "\n",
        "1. As you can see by the printout from running the cell below, the code currently isn't appending all the channels/bins to the list of values. Open the data file, check what line the actual data starts, and change the range of the if statement to correctly capture all the channels of your data set\n"
      ]
    },
    {
      "cell_type": "code",
      "execution_count": 15,
      "metadata": {
        "id": "ekFX3WFlv1M1"
      },
      "outputs": [],
      "source": [
        "import io\n",
        "file = uploaded[filename] # This is only correct if uploading 1 file\n",
        "data_path = io.StringIO(file.decode('utf-8'))\n",
        "lines = data_path.readlines()\n",
        "\n",
        "data_start = 10\n",
        "data_end = 100\n",
        "\n",
        "linenumber = 0\n",
        "values = []\n",
        "for line in lines:\n",
        "  if data_start < linenumber< data_end:\n",
        "    print(line)\n",
        "    values.append(float(line.split()[1]))\n",
        "    values.append(float(line.split()[2]))\n",
        "    values.append(float(line.split()[3]))\n",
        "    values.append(float(line.split()[4]))\n",
        "  linenumber += 1"
      ]
    },
    {
      "cell_type": "code",
      "execution_count": 21,
      "metadata": {},
      "outputs": [
        {
          "name": "stdout",
          "output_type": "stream",
          "text": [
            "         0:    0.00000E+000    7.00000E+000    1.40000E+001    2.50000E+001\n",
            "0         4:    1.40000E+001    1.10000E+001    1.2...                     \n",
            "1         8:    1.70000E+001    1.30000E+001    8.0...                     \n",
            "2        12:    8.00000E+000    1.40000E+001    1.5...                     \n",
            "3        16:    1.20000E+001    1.00000E+001    1.1...                     \n",
            "4        20:    8.00000E+000    1.40000E+001    1.2...                     \n",
            "..                                                 ...                     \n",
            "122     492:    2.00000E+000    3.00000E+000    0.0...                     \n",
            "123     496:    2.00000E+000    2.00000E+000    0.0...                     \n",
            "124     500:    1.00000E+000    2.00000E+000    1.0...                     \n",
            "125     504:    0.00000E+000    0.00000E+000    0.0...                     \n",
            "126     508:    0.00000E+000    0.00000E+000    0.0...                     \n",
            "\n",
            "[127 rows x 1 columns]\n"
          ]
        }
      ],
      "source": [
        "file = open('r', )\n",
        "print(file)\n"
      ]
    },
    {
      "cell_type": "markdown",
      "metadata": {
        "id": "56lfbSIR2iLU"
      },
      "source": [
        "We know from the set-up that we have 511 channels. We will represent these using a list of numbers ranging form 0 to 511.\n",
        "\n",
        "**Todo:**\n",
        "\n",
        "1. From the print below you can see that the current code creates a list of 100 entries from 10-109. change this to correctly represent the channels of our setup.\n",
        "\n",
        "NOTE: The lines of code that are commented out are for rebinning the histogram, which is a procedure that will be addressed towards the end of this notebook."
      ]
    },
    {
      "cell_type": "code",
      "execution_count": 16,
      "metadata": {
        "id": "uOaZVEffZM8t"
      },
      "outputs": [
        {
          "name": "stdout",
          "output_type": "stream",
          "text": [
            "512\n",
            "[]\n",
            "[  0   1   2   3   4   5   6   7   8   9  10  11  12  13  14  15  16  17\n",
            "  18  19  20  21  22  23  24  25  26  27  28  29  30  31  32  33  34  35\n",
            "  36  37  38  39  40  41  42  43  44  45  46  47  48  49  50  51  52  53\n",
            "  54  55  56  57  58  59  60  61  62  63  64  65  66  67  68  69  70  71\n",
            "  72  73  74  75  76  77  78  79  80  81  82  83  84  85  86  87  88  89\n",
            "  90  91  92  93  94  95  96  97  98  99 100 101 102 103 104 105 106 107\n",
            " 108 109 110 111 112 113 114 115 116 117 118 119 120 121 122 123 124 125\n",
            " 126 127 128 129 130 131 132 133 134 135 136 137 138 139 140 141 142 143\n",
            " 144 145 146 147 148 149 150 151 152 153 154 155 156 157 158 159 160 161\n",
            " 162 163 164 165 166 167 168 169 170 171 172 173 174 175 176 177 178 179\n",
            " 180 181 182 183 184 185 186 187 188 189 190 191 192 193 194 195 196 197\n",
            " 198 199 200 201 202 203 204 205 206 207 208 209 210 211 212 213 214 215\n",
            " 216 217 218 219 220 221 222 223 224 225 226 227 228 229 230 231 232 233\n",
            " 234 235 236 237 238 239 240 241 242 243 244 245 246 247 248 249 250 251\n",
            " 252 253 254 255 256 257 258 259 260 261 262 263 264 265 266 267 268 269\n",
            " 270 271 272 273 274 275 276 277 278 279 280 281 282 283 284 285 286 287\n",
            " 288 289 290 291 292 293 294 295 296 297 298 299 300 301 302 303 304 305\n",
            " 306 307 308 309 310 311 312 313 314 315 316 317 318 319 320 321 322 323\n",
            " 324 325 326 327 328 329 330 331 332 333 334 335 336 337 338 339 340 341\n",
            " 342 343 344 345 346 347 348 349 350 351 352 353 354 355 356 357 358 359\n",
            " 360 361 362 363 364 365 366 367 368 369 370 371 372 373 374 375 376 377\n",
            " 378 379 380 381 382 383 384 385 386 387 388 389 390 391 392 393 394 395\n",
            " 396 397 398 399 400 401 402 403 404 405 406 407 408 409 410 411 412 413\n",
            " 414 415 416 417 418 419 420 421 422 423 424 425 426 427 428 429 430 431\n",
            " 432 433 434 435 436 437 438 439 440 441 442 443 444 445 446 447 448 449\n",
            " 450 451 452 453 454 455 456 457 458 459 460 461 462 463 464 465 466 467\n",
            " 468 469 470 471 472 473 474 475 476 477 478 479 480 481 482 483 484 485\n",
            " 486 487 488 489 490 491 492 493 494 495 496 497 498 499 500 501 502 503\n",
            " 504 505 506 507 508 509 510 511]\n"
          ]
        },
        {
          "ename": "AssertionError",
          "evalue": "Your list of channels/bins is not the same size as your list of values",
          "output_type": "error",
          "traceback": [
            "\u001b[0;31m---------------------------------------------------------------------------\u001b[0m",
            "\u001b[0;31mAssertionError\u001b[0m                            Traceback (most recent call last)",
            "Cell \u001b[0;32mIn[16], line 22\u001b[0m\n\u001b[1;32m     18\u001b[0m bins \u001b[38;5;241m=\u001b[39m np\u001b[38;5;241m.\u001b[39marray(bins)\n\u001b[1;32m     19\u001b[0m \u001b[38;5;66;03m#values = np.array(values2)\u001b[39;00m\n\u001b[1;32m     20\u001b[0m \u001b[38;5;66;03m#bins = np.array(bins2)\u001b[39;00m\n\u001b[0;32m---> 22\u001b[0m \u001b[38;5;28;01massert\u001b[39;00m \u001b[38;5;28mlen\u001b[39m(bins)\u001b[38;5;241m==\u001b[39m\u001b[38;5;28mlen\u001b[39m(values), \u001b[38;5;124m\"\u001b[39m\u001b[38;5;124mYour list of channels/bins is not the same size as your list of values\u001b[39m\u001b[38;5;124m\"\u001b[39m\n",
            "\u001b[0;31mAssertionError\u001b[0m: Your list of channels/bins is not the same size as your list of values"
          ]
        }
      ],
      "source": [
        "import numpy as np\n",
        "bins = np.arange(0,512) # Creates a list of 100 values [10 - 109]\n",
        "print(len(bins))\n",
        "print(values)\n",
        "print(bins)\n",
        "\n",
        "\n",
        "#i=0\n",
        "#values2=[]\n",
        "#bins2=[]\n",
        "#while i<len(values):\n",
        "  #values2.append(values[i+0]+values[i+1]+values[i+2]+values[i+3])\n",
        "  #bins2.append((bins[i+0]+bins[i+1]+bins[i+2]+bins[i+3])/4)\n",
        "  #i+=4\n",
        "\n",
        "# We turn both the bins and values into NumPy (np) arrays, since these are easier to work with later on\n",
        "values = np.array(values)\n",
        "bins = np.array(bins)\n",
        "#values = np.array(values2)\n",
        "#bins = np.array(bins2)\n",
        "\n",
        "assert len(bins)==len(values), \"Your list of channels/bins is not the same size as your list of values\""
      ]
    },
    {
      "cell_type": "markdown",
      "metadata": {
        "id": "o-c8aYQ64mLp"
      },
      "source": [
        "#3. Plot the calibration data\n",
        "\n",
        "Currently, with the channel number as our bins, the final plot will display channel number on the x-axis and not time. To change the channel number to represent time, we need to do a calibration. We start by plotting our calibration data:\n",
        "\n",
        "**Todo:**\n",
        "\n",
        "1. Change the default calibration data in the cell below to your own calibration that you performed during the lab."
      ]
    },
    {
      "cell_type": "code",
      "execution_count": 6,
      "metadata": {
        "id": "hnhYNyyZ46kW"
      },
      "outputs": [
        {
          "data": {
            "image/png": "[encoded data removed]",
            "text/plain": [
              "<Figure size 640x480 with 1 Axes>"
            ]
          },
          "metadata": {},
          "output_type": "display_data"
        }
      ],
      "source": [
        "import matplotlib.pyplot as plt\n",
        "\n",
        "# For simplicity we have the data for the calibration right here in the code\n",
        "delta_T = np.array([0.5,1.0,2.0,3.0,5.0,10.0])\n",
        "bin_number = np.array([11.,23.,43.,69.,120.,246.])\n",
        "\n",
        "# Plotting using matplotlib\n",
        "fig, ax = plt.subplots()\n",
        "ax.errorbar(bin_number,delta_T,linestyle=\"none\",marker=\"o\")\n",
        "plt.show()\n"
      ]
    },
    {
      "cell_type": "markdown",
      "metadata": {
        "id": "kH1SnhmLjqy8"
      },
      "source": [
        "In order to calibrate the channel number to a time we need to fit the calibration data, and apply the fit parameters to the bin numbers.\n",
        "\n",
        "**Todo:**  \n",
        "\n",
        "1.   Change the current definition of the \"linearFunction\", so that it actually represents a linear function.\n",
        "2.   Change the print in the bottom to print the linar function in the form \"y=ax+b\", with your fit parameters \"a\" and \"b\"\n",
        "\n"
      ]
    },
    {
      "cell_type": "code",
      "execution_count": 7,
      "metadata": {
        "id": "6OOBM7s1jsfb"
      },
      "outputs": [
        {
          "data": {
            "image/png": "[encoded data removed]",
            "text/plain": [
              "<Figure size 640x480 with 1 Axes>"
            ]
          },
          "metadata": {},
          "output_type": "display_data"
        },
        {
          "name": "stdout",
          "output_type": "stream",
          "text": [
            "y = x^ 0.46096940552217486  + -3.36769852125227\n"
          ]
        }
      ],
      "source": [
        "from scipy.optimize import curve_fit\n",
        "\n",
        "#Define a linear function\n",
        "def linearFunction(x,a,b):\n",
        "  return (x**a)+b\n",
        "\n",
        "# We then call SciPy curve fit with our function,\n",
        "# independent variable (bin_number), and dependent variable (delta_T).\n",
        "# This returns the fit parameters \"a\" and b\n",
        "# as well as some erros that we'll look into further later on\n",
        "fitParameters_linear, fitErrorMatrix_linear = curve_fit(linearFunction, bin_number, delta_T)\n",
        "\n",
        "# Plot the calibration data and the fit on the same canvas\n",
        "fig, ax = plt.subplots()\n",
        "ax.errorbar(bin_number,delta_T, label='Calibration data',linestyle=\"none\",marker=\"o\")\n",
        "ax.errorbar(bin_number, linearFunction(bin_number, *fitParameters_linear), label='Fit',color=\"red\")\n",
        "plt.show()\n",
        "\n",
        "# Print the fit parameters to see that they make sense\n",
        "print(\"y =\",\"x^\",fitParameters_linear[0],\" +\",fitParameters_linear[1])"
      ]
    },
    {
      "cell_type": "markdown",
      "metadata": {
        "id": "Fftz45xt47JV"
      },
      "source": [
        "# 4. Apply the calibration to your bins so that they represent time rather than bin number and plot the muon data\n",
        "\n",
        "**Todo:**\n",
        "\n",
        "1.   From the faulty calibration that you fixed, the \"calibratedBins\" are defined by the original \"bins\" using a power function. change this to the correct linear function using the linear fit parameters that you obtained above\n",
        "\n"
      ]
    },
    {
      "cell_type": "code",
      "execution_count": 8,
      "metadata": {
        "id": "vEUUYZZjB99k"
      },
      "outputs": [
        {
          "ename": "ValueError",
          "evalue": "weights should have the same shape as x",
          "output_type": "error",
          "traceback": [
            "\u001b[0;31m---------------------------------------------------------------------------\u001b[0m",
            "\u001b[0;31mValueError\u001b[0m                                Traceback (most recent call last)",
            "Cell \u001b[0;32mIn[8], line 8\u001b[0m\n\u001b[1;32m      6\u001b[0m \u001b[38;5;28;01mimport\u001b[39;00m \u001b[38;5;21;01mmatplotlib\u001b[39;00m\u001b[38;5;21;01m.\u001b[39;00m\u001b[38;5;21;01mpyplot\u001b[39;00m \u001b[38;5;28;01mas\u001b[39;00m \u001b[38;5;21;01mplt\u001b[39;00m\n\u001b[1;32m      7\u001b[0m fig, ax \u001b[38;5;241m=\u001b[39m plt\u001b[38;5;241m.\u001b[39msubplots()\n\u001b[0;32m----> 8\u001b[0m ax\u001b[38;5;241m.\u001b[39mhist(calibratedBins, weights\u001b[38;5;241m=\u001b[39mvalues,bins\u001b[38;5;241m=\u001b[39m\u001b[38;5;28mlen\u001b[39m(values))\n\u001b[1;32m      9\u001b[0m plt\u001b[38;5;241m.\u001b[39mshow()\n",
            "File \u001b[0;32m~/anaconda3/lib/python3.11/site-packages/matplotlib/__init__.py:1446\u001b[0m, in \u001b[0;36m_preprocess_data.<locals>.inner\u001b[0;34m(ax, data, *args, **kwargs)\u001b[0m\n\u001b[1;32m   1443\u001b[0m \u001b[38;5;129m@functools\u001b[39m\u001b[38;5;241m.\u001b[39mwraps(func)\n\u001b[1;32m   1444\u001b[0m \u001b[38;5;28;01mdef\u001b[39;00m \u001b[38;5;21minner\u001b[39m(ax, \u001b[38;5;241m*\u001b[39margs, data\u001b[38;5;241m=\u001b[39m\u001b[38;5;28;01mNone\u001b[39;00m, \u001b[38;5;241m*\u001b[39m\u001b[38;5;241m*\u001b[39mkwargs):\n\u001b[1;32m   1445\u001b[0m     \u001b[38;5;28;01mif\u001b[39;00m data \u001b[38;5;129;01mis\u001b[39;00m \u001b[38;5;28;01mNone\u001b[39;00m:\n\u001b[0;32m-> 1446\u001b[0m         \u001b[38;5;28;01mreturn\u001b[39;00m func(ax, \u001b[38;5;241m*\u001b[39m\u001b[38;5;28mmap\u001b[39m(sanitize_sequence, args), \u001b[38;5;241m*\u001b[39m\u001b[38;5;241m*\u001b[39mkwargs)\n\u001b[1;32m   1448\u001b[0m     bound \u001b[38;5;241m=\u001b[39m new_sig\u001b[38;5;241m.\u001b[39mbind(ax, \u001b[38;5;241m*\u001b[39margs, \u001b[38;5;241m*\u001b[39m\u001b[38;5;241m*\u001b[39mkwargs)\n\u001b[1;32m   1449\u001b[0m     auto_label \u001b[38;5;241m=\u001b[39m (bound\u001b[38;5;241m.\u001b[39marguments\u001b[38;5;241m.\u001b[39mget(label_namer)\n\u001b[1;32m   1450\u001b[0m                   \u001b[38;5;129;01mor\u001b[39;00m bound\u001b[38;5;241m.\u001b[39mkwargs\u001b[38;5;241m.\u001b[39mget(label_namer))\n",
            "File \u001b[0;32m~/anaconda3/lib/python3.11/site-packages/matplotlib/axes/_axes.py:6738\u001b[0m, in \u001b[0;36mAxes.hist\u001b[0;34m(self, x, bins, range, density, weights, cumulative, bottom, histtype, align, orientation, rwidth, log, color, label, stacked, **kwargs)\u001b[0m\n\u001b[1;32m   6736\u001b[0m len_xi \u001b[38;5;241m=\u001b[39m \u001b[38;5;28mlen\u001b[39m(xi)\n\u001b[1;32m   6737\u001b[0m \u001b[38;5;28;01mif\u001b[39;00m wi \u001b[38;5;129;01mis\u001b[39;00m \u001b[38;5;129;01mnot\u001b[39;00m \u001b[38;5;28;01mNone\u001b[39;00m \u001b[38;5;129;01mand\u001b[39;00m \u001b[38;5;28mlen\u001b[39m(wi) \u001b[38;5;241m!=\u001b[39m len_xi:\n\u001b[0;32m-> 6738\u001b[0m     \u001b[38;5;28;01mraise\u001b[39;00m \u001b[38;5;167;01mValueError\u001b[39;00m(\u001b[38;5;124m'\u001b[39m\u001b[38;5;124mweights should have the same shape as x\u001b[39m\u001b[38;5;124m'\u001b[39m)\n\u001b[1;32m   6739\u001b[0m \u001b[38;5;28;01mif\u001b[39;00m len_xi:\n\u001b[1;32m   6740\u001b[0m     input_empty \u001b[38;5;241m=\u001b[39m \u001b[38;5;28;01mFalse\u001b[39;00m\n",
            "\u001b[0;31mValueError\u001b[0m: weights should have the same shape as x"
          ]
        },
        {
          "data": {
            "image/png": "[encoded data removed]",
            "text/plain": [
              "<Figure size 640x480 with 1 Axes>"
            ]
          },
          "metadata": {},
          "output_type": "display_data"
        }
      ],
      "source": [
        "# With the bins as a NumPy array, applying the calibration is simple.\n",
        "# Just add the array \"bins\" as x with the linear fit parameters you\n",
        "# obtained earlier\n",
        "calibratedBins = bins**fitParameters_linear[0] + fitParameters_linear[1]\n",
        "\n",
        "import matplotlib.pyplot as plt\n",
        "fig, ax = plt.subplots()\n",
        "ax.hist(calibratedBins, weights=values,bins=len(values))\n",
        "plt.show()"
      ]
    },
    {
      "cell_type": "markdown",
      "metadata": {
        "id": "pIUjds7a6Ciq"
      },
      "source": [
        "#5. Justify removing the first and last bin\n",
        "With our setup, any considered bin contains the number of counts between times t, and t+\\Delta t. Since we don't know the shortest time we can measure with our setup, it means that our shortest time for the lowest bin might be somewhere between t and t+ \\Delta t for that first bin. Due to this, we expect the number of counts in that bin will get smaller than the true value.\n",
        "\n",
        "With this, we justify removing the first couple of bins if the histogram above if these first bins look weird. All the data sets are different, sometimes you can remove only the first bin, sometimes the first 3\n",
        "\n",
        "**Todo:**\n",
        "\n",
        "1. In the current code, I have removed the first 10 bins wihtout justification. I want you to look at your histogram above and justify which bins to remove, and then remove those bins"
      ]
    },
    {
      "cell_type": "code",
      "execution_count": 9,
      "metadata": {
        "id": "4wRqHjSC7UFq"
      },
      "outputs": [
        {
          "name": "stdout",
          "output_type": "stream",
          "text": [
            "[]\n"
          ]
        },
        {
          "ename": "ValueError",
          "evalue": "weights should have the same shape as x",
          "output_type": "error",
          "traceback": [
            "\u001b[0;31m---------------------------------------------------------------------------\u001b[0m",
            "\u001b[0;31mValueError\u001b[0m                                Traceback (most recent call last)",
            "Cell \u001b[0;32mIn[9], line 8\u001b[0m\n\u001b[1;32m      5\u001b[0m \u001b[38;5;28mprint\u001b[39m(truncated_values)\n\u001b[1;32m      7\u001b[0m fig, ax \u001b[38;5;241m=\u001b[39m plt\u001b[38;5;241m.\u001b[39msubplots()\n\u001b[0;32m----> 8\u001b[0m ax\u001b[38;5;241m.\u001b[39mhist(truncated_calibratedBins, weights\u001b[38;5;241m=\u001b[39mtruncated_values,bins\u001b[38;5;241m=\u001b[39m\u001b[38;5;28mlen\u001b[39m(values))\n\u001b[1;32m      9\u001b[0m plt\u001b[38;5;241m.\u001b[39mshow()\n",
            "File \u001b[0;32m~/anaconda3/lib/python3.11/site-packages/matplotlib/__init__.py:1446\u001b[0m, in \u001b[0;36m_preprocess_data.<locals>.inner\u001b[0;34m(ax, data, *args, **kwargs)\u001b[0m\n\u001b[1;32m   1443\u001b[0m \u001b[38;5;129m@functools\u001b[39m\u001b[38;5;241m.\u001b[39mwraps(func)\n\u001b[1;32m   1444\u001b[0m \u001b[38;5;28;01mdef\u001b[39;00m \u001b[38;5;21minner\u001b[39m(ax, \u001b[38;5;241m*\u001b[39margs, data\u001b[38;5;241m=\u001b[39m\u001b[38;5;28;01mNone\u001b[39;00m, \u001b[38;5;241m*\u001b[39m\u001b[38;5;241m*\u001b[39mkwargs):\n\u001b[1;32m   1445\u001b[0m     \u001b[38;5;28;01mif\u001b[39;00m data \u001b[38;5;129;01mis\u001b[39;00m \u001b[38;5;28;01mNone\u001b[39;00m:\n\u001b[0;32m-> 1446\u001b[0m         \u001b[38;5;28;01mreturn\u001b[39;00m func(ax, \u001b[38;5;241m*\u001b[39m\u001b[38;5;28mmap\u001b[39m(sanitize_sequence, args), \u001b[38;5;241m*\u001b[39m\u001b[38;5;241m*\u001b[39mkwargs)\n\u001b[1;32m   1448\u001b[0m     bound \u001b[38;5;241m=\u001b[39m new_sig\u001b[38;5;241m.\u001b[39mbind(ax, \u001b[38;5;241m*\u001b[39margs, \u001b[38;5;241m*\u001b[39m\u001b[38;5;241m*\u001b[39mkwargs)\n\u001b[1;32m   1449\u001b[0m     auto_label \u001b[38;5;241m=\u001b[39m (bound\u001b[38;5;241m.\u001b[39marguments\u001b[38;5;241m.\u001b[39mget(label_namer)\n\u001b[1;32m   1450\u001b[0m                   \u001b[38;5;129;01mor\u001b[39;00m bound\u001b[38;5;241m.\u001b[39mkwargs\u001b[38;5;241m.\u001b[39mget(label_namer))\n",
            "File \u001b[0;32m~/anaconda3/lib/python3.11/site-packages/matplotlib/axes/_axes.py:6738\u001b[0m, in \u001b[0;36mAxes.hist\u001b[0;34m(self, x, bins, range, density, weights, cumulative, bottom, histtype, align, orientation, rwidth, log, color, label, stacked, **kwargs)\u001b[0m\n\u001b[1;32m   6736\u001b[0m len_xi \u001b[38;5;241m=\u001b[39m \u001b[38;5;28mlen\u001b[39m(xi)\n\u001b[1;32m   6737\u001b[0m \u001b[38;5;28;01mif\u001b[39;00m wi \u001b[38;5;129;01mis\u001b[39;00m \u001b[38;5;129;01mnot\u001b[39;00m \u001b[38;5;28;01mNone\u001b[39;00m \u001b[38;5;129;01mand\u001b[39;00m \u001b[38;5;28mlen\u001b[39m(wi) \u001b[38;5;241m!=\u001b[39m len_xi:\n\u001b[0;32m-> 6738\u001b[0m     \u001b[38;5;28;01mraise\u001b[39;00m \u001b[38;5;167;01mValueError\u001b[39;00m(\u001b[38;5;124m'\u001b[39m\u001b[38;5;124mweights should have the same shape as x\u001b[39m\u001b[38;5;124m'\u001b[39m)\n\u001b[1;32m   6739\u001b[0m \u001b[38;5;28;01mif\u001b[39;00m len_xi:\n\u001b[1;32m   6740\u001b[0m     input_empty \u001b[38;5;241m=\u001b[39m \u001b[38;5;28;01mFalse\u001b[39;00m\n",
            "\u001b[0;31mValueError\u001b[0m: weights should have the same shape as x"
          ]
        },
        {
          "data": {
            "image/png": "[encoded data removed]",
            "text/plain": [
              "<Figure size 640x480 with 1 Axes>"
            ]
          },
          "metadata": {},
          "output_type": "display_data"
        }
      ],
      "source": [
        "truncation = 10\n",
        "\n",
        "truncated_calibratedBins=calibratedBins[truncation:]\n",
        "truncated_values=values[truncation:]\n",
        "print(truncated_values)\n",
        "\n",
        "fig, ax = plt.subplots()\n",
        "ax.hist(truncated_calibratedBins, weights=truncated_values,bins=len(values))\n",
        "plt.show()"
      ]
    },
    {
      "cell_type": "markdown",
      "metadata": {
        "id": "zuqelatS8CIj"
      },
      "source": [
        "#6. Fit the muon data\n",
        "\n",
        "**Todo:**\n",
        "\n",
        "1. In the original code below, I am fitting the calibrated data with a linear function as you can see by the definition of \"exponentialFunction\" below. This \"works\" for the original code, because the calibration was done wrong. If you have done the calibration correctly with a linear function you should chage the \"exponentialFunction\" into an exponential function, found in the lab manual."
      ]
    },
    {
      "cell_type": "markdown",
      "metadata": {
        "id": "hjzbf4XOIOUY"
      },
      "source": [
        "Then define the fit function:"
      ]
    },
    {
      "cell_type": "code",
      "execution_count": null,
      "metadata": {
        "id": "VfrYOen18mPu"
      },
      "outputs": [],
      "source": [
        "def exponentialFunction(x,A,tau,b):\n",
        "  return A*x/tau+b"
      ]
    },
    {
      "cell_type": "markdown",
      "metadata": {
        "id": "jjVpTS5y9IZE"
      },
      "source": [
        "Run a scipy curve_fit on the data"
      ]
    },
    {
      "cell_type": "code",
      "execution_count": null,
      "metadata": {
        "id": "vqjkypk56DdC"
      },
      "outputs": [],
      "source": [
        "from scipy.optimize import curve_fit\n",
        "fitParameters_exponential, fitErrorMatrix_exponential = curve_fit(exponentialFunction, truncated_calibratedBins, truncated_values)"
      ]
    },
    {
      "cell_type": "markdown",
      "metadata": {
        "id": "3bW3VRn-AOSs"
      },
      "source": [
        "Set the vertixal error bars to \\sqrt{y}, and the horizontal error bars to the bin width. We need to do this because the Matplotlib histogram does not support errorbars"
      ]
    },
    {
      "cell_type": "code",
      "execution_count": null,
      "metadata": {
        "id": "tZuSTt65qz2S"
      },
      "outputs": [],
      "source": [
        "valueError = np.sqrt(np.array(truncated_values))\n",
        "xError = len(truncated_calibratedBins)*[(truncated_calibratedBins[2]-truncated_calibratedBins[1])/2]"
      ]
    },
    {
      "cell_type": "markdown",
      "metadata": {
        "id": "GKdTm1ayAnCj"
      },
      "source": [
        "#7. Plot the fit in the same figure as the muon data\n",
        "\n",
        "**Todo:**\n",
        "\n",
        "1. Make appropriate labels to the x and y -axis, including units **IF** needed\n",
        "2. Do the same for the legend"
      ]
    },
    {
      "cell_type": "code",
      "execution_count": null,
      "metadata": {
        "id": "ojjONcgHAoaw"
      },
      "outputs": [],
      "source": [
        "fig, ax = plt.subplots()\n",
        "\n",
        "# Simple plot\n",
        "ax.errorbar(truncated_calibratedBins, truncated_values, yerr=valueError, xerr=xError, linewidth=0.5,linestyle=\"None\", marker=\"o\",markersize=1,label='$Blue markers$')\n",
        "ax.errorbar(truncated_calibratedBins, exponentialFunction(truncated_calibratedBins, *fitParameters_exponential), label='Red line', color=\"red\")\n",
        "\n",
        "# Add necessities\n",
        "# Axis labels\n",
        "ax.set_xlabel(r\"Wow, such $\\frac{LaTeX}{support}$\", ha='right', x=1.0)\n",
        "ax.set_ylabel(\"You can add LaTeX characters like $\\Delta$\", ha='right', y=1.0)\n",
        "# Legend 1\n",
        "leg1 = ax.legend()\n",
        "\n",
        "plt.show()"
      ]
    },
    {
      "cell_type": "markdown",
      "metadata": {
        "id": "u1BZxknOBwcN"
      },
      "source": [
        "Print fitted parameters and uncertainties:"
      ]
    },
    {
      "cell_type": "code",
      "execution_count": null,
      "metadata": {
        "id": "V-VqUJhRBvti"
      },
      "outputs": [],
      "source": [
        "perr = np.sqrt(np.diag(fitErrorMatrix_exponential)) # This is taken form the definition of\n",
        "#curve_fit at https://docs.scipy.org/doc/scipy/reference/generated/scipy.optimize.curve_fit.html\n",
        "print(\"A:\\t\", fitParameters_exponential[0],\"\\t+/-\",perr[0],\"\\ntau:\\t\", fitParameters_exponential[1],\"\\t+/-\",perr[1], \"\\nb:\\t\", fitParameters_exponential[2],\"\\t+/-\",perr[2])\n",
        "print(\"\\nThe muon lifetime is:\",fitParameters_exponential[1],\"+/-\",perr[1],\"\\u03BCs\")"
      ]
    },
    {
      "cell_type": "markdown",
      "metadata": {
        "id": "KCBvesa3E2nK"
      },
      "source": [
        "#8. Chi^2"
      ]
    },
    {
      "cell_type": "code",
      "execution_count": null,
      "metadata": {
        "id": "EBhPeSHzE51Q"
      },
      "outputs": [],
      "source": [
        "f=exponentialFunction(truncated_calibratedBins, fitParameters_exponential[0], fitParameters_exponential[1], fitParameters_exponential[2])\n",
        "y=truncated_values\n",
        "sigma=valueError\n",
        "lst=[]\n",
        "for i in range(0,len(truncated_values)):\n",
        "  if sigma[i]==0: continue\n",
        "  lst.append(((f[i]-y[i])/sigma[i])**2)\n",
        "\n",
        "chisquared = sum(lst)\n",
        "ndf = (len(lst)-3)\n",
        "print(\"X^2 = \",chisquared)\n",
        "print(\"X^2/ndf = \",chisquared/ndf)\n",
        "print(\"Degrees of freedom: \", ndf)"
      ]
    },
    {
      "cell_type": "markdown",
      "metadata": {
        "id": "CxiAyOy8BVr6"
      },
      "source": [
        "#9. Why is my Chi^2 << 1 ?!?!\n",
        "\n",
        "This probably happened because your histogram contains very few counts. Because sigma is defined using the square-root, bins with a small number of counts will strongly affect the Chi-squared calculation and fitting.\n",
        "\n",
        "A way to remedy this is to rebin your histogram. The code below combines every four bins in the original histogram into one new bin. This way, you end up with fewer bins with low counts.\n",
        "\n",
        "**ToDo**\n",
        "1. Go back to step 3 of the analysis (Getting the bins and bin content of the histogram) and uncomment the rebinning procedure.\n",
        "2. Go through the notebook one more time using the rebinned data. Make sure that you apply a different truncation to the histogram if necessary!"
      ]
    },
    {
      "cell_type": "markdown",
      "metadata": {
        "id": "faOcWVaDkzmg"
      },
      "source": [
        "#10. Why is my muon lifetime ~1.6 micro seconds ?!?!\n",
        "\n",
        "Don't worry, that's what I get for some datasets as well.\n",
        "\n",
        "**Todo:**\n",
        "In the discussion of your report I want you to discuss two things:\n",
        "1. How you could improve your result if you had more resources (time, computing power, money etc.)\n",
        "2. How you could improver your results with what you already have"
      ]
    }
  ],
  "metadata": {
    "colab": {
      "provenance": []
    },
    "kernelspec": {
      "display_name": "Python 3",
      "name": "python3"
    },
    "language_info": {
      "codemirror_mode": {
        "name": "ipython",
        "version": 3
      },
      "file_extension": ".py",
      "mimetype": "text/x-python",
      "name": "python",
      "nbconvert_exporter": "python",
      "pygments_lexer": "ipython3",
      "version": "3.11.5"
    }
  },
  "nbformat": 4,
  "nbformat_minor": 0
}
